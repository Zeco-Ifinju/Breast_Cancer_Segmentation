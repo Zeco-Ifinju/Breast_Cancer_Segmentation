{
 "cells": [
  {
   "cell_type": "code",
   "execution_count": 1,
   "metadata": {},
   "outputs": [
    {
     "name": "stderr",
     "output_type": "stream",
     "text": [
      "2024-08-05 11:48:37.238540: I tensorflow/core/platform/cpu_feature_guard.cc:182] This TensorFlow binary is optimized to use available CPU instructions in performance-critical operations.\n",
      "To enable the following instructions: AVX2 FMA, in other operations, rebuild TensorFlow with the appropriate compiler flags.\n",
      "2024-08-05 11:48:38.267016: W tensorflow/compiler/tf2tensorrt/utils/py_utils.cc:38] TF-TRT Warning: Could not find TensorRT\n"
     ]
    }
   ],
   "source": [
    "import os\n",
    "import numpy as np\n",
    "import tensorflow as tf\n",
    "from tensorflow.keras.preprocessing.image import ImageDataGenerator\n",
    "from tensorflow.keras import layers, models"
   ]
  },
  {
   "cell_type": "code",
   "execution_count": 2,
   "metadata": {},
   "outputs": [
    {
     "name": "stdout",
     "output_type": "stream",
     "text": [
      "Found 1370 images belonging to 2 classes.\n",
      "Found 198 images belonging to 2 classes.\n",
      "Found 393 images belonging to 2 classes.\n"
     ]
    }
   ],
   "source": [
    "\n",
    "# Define paths\n",
    "base_dir = '/home/ubuntu/BSC/Breast_Cancer_Segmentation/Dataset'\n",
    "train_dir = os.path.join(base_dir, 'train')\n",
    "validation_dir = os.path.join(base_dir, 'validation')\n",
    "test_dir = os.path.join(base_dir, 'test')\n",
    "\n",
    "# Create ImageDataGenerators for augmentation\n",
    "train_datagen = ImageDataGenerator(rescale=1./255, rotation_range=40, width_shift_range=0.2, height_shift_range=0.2, shear_range=0.2, zoom_range=0.2, horizontal_flip=True, fill_mode='nearest')\n",
    "validation_datagen = ImageDataGenerator(rescale=1./255)\n",
    "test_datagen = ImageDataGenerator(rescale=1./255)\n",
    "\n",
    "# Load and augment the data\n",
    "train_generator = train_datagen.flow_from_directory(train_dir, target_size=(256, 256), batch_size=32, class_mode=None)\n",
    "validation_generator = validation_datagen.flow_from_directory(validation_dir, target_size=(256, 256), batch_size=32, class_mode=None)\n",
    "test_generator = test_datagen.flow_from_directory(test_dir, target_size=(256, 256), batch_size=32, class_mode=None)"
   ]
  },
  {
   "cell_type": "code",
   "execution_count": 3,
   "metadata": {},
   "outputs": [],
   "source": [
    "class AutoencoderDataGenerator(tf.keras.utils.Sequence):\n",
    "    def __init__(self, image_generator, batch_size):\n",
    "        self.image_generator = image_generator\n",
    "        self.batch_size = batch_size\n",
    "\n",
    "    def __len__(self):\n",
    "        return len(self.image_generator)\n",
    "\n",
    "    def __getitem__(self, index):\n",
    "        batch_x = self.image_generator[index]\n",
    "        return batch_x, batch_x\n",
    "\n",
    "# Create the custom data generators\n",
    "train_autoencoder_generator = AutoencoderDataGenerator(train_generator, batch_size=32)\n",
    "validation_autoencoder_generator = AutoencoderDataGenerator(validation_generator, batch_size=32)\n",
    "test_autoencoder_generator = AutoencoderDataGenerator(test_generator, batch_size=32)"
   ]
  },
  {
   "cell_type": "markdown",
   "metadata": {},
   "source": [
    "### Step 2: Define U-Net Model"
   ]
  },
  {
   "cell_type": "code",
   "execution_count": 4,
   "metadata": {},
   "outputs": [
    {
     "name": "stderr",
     "output_type": "stream",
     "text": [
      "2024-08-05 11:50:10.958264: I tensorflow/compiler/xla/stream_executor/cuda/cuda_gpu_executor.cc:996] successful NUMA node read from SysFS had negative value (-1), but there must be at least one NUMA node, so returning NUMA node zero. See more at https://github.com/torvalds/linux/blob/v6.0/Documentation/ABI/testing/sysfs-bus-pci#L344-L355\n",
      "2024-08-05 11:50:10.997841: I tensorflow/compiler/xla/stream_executor/cuda/cuda_gpu_executor.cc:996] successful NUMA node read from SysFS had negative value (-1), but there must be at least one NUMA node, so returning NUMA node zero. See more at https://github.com/torvalds/linux/blob/v6.0/Documentation/ABI/testing/sysfs-bus-pci#L344-L355\n",
      "2024-08-05 11:50:10.998111: I tensorflow/compiler/xla/stream_executor/cuda/cuda_gpu_executor.cc:996] successful NUMA node read from SysFS had negative value (-1), but there must be at least one NUMA node, so returning NUMA node zero. See more at https://github.com/torvalds/linux/blob/v6.0/Documentation/ABI/testing/sysfs-bus-pci#L344-L355\n",
      "2024-08-05 11:50:10.999733: I tensorflow/compiler/xla/stream_executor/cuda/cuda_gpu_executor.cc:996] successful NUMA node read from SysFS had negative value (-1), but there must be at least one NUMA node, so returning NUMA node zero. See more at https://github.com/torvalds/linux/blob/v6.0/Documentation/ABI/testing/sysfs-bus-pci#L344-L355\n",
      "2024-08-05 11:50:10.999953: I tensorflow/compiler/xla/stream_executor/cuda/cuda_gpu_executor.cc:996] successful NUMA node read from SysFS had negative value (-1), but there must be at least one NUMA node, so returning NUMA node zero. See more at https://github.com/torvalds/linux/blob/v6.0/Documentation/ABI/testing/sysfs-bus-pci#L344-L355\n",
      "2024-08-05 11:50:11.000145: I tensorflow/compiler/xla/stream_executor/cuda/cuda_gpu_executor.cc:996] successful NUMA node read from SysFS had negative value (-1), but there must be at least one NUMA node, so returning NUMA node zero. See more at https://github.com/torvalds/linux/blob/v6.0/Documentation/ABI/testing/sysfs-bus-pci#L344-L355\n",
      "2024-08-05 11:50:11.921373: I tensorflow/compiler/xla/stream_executor/cuda/cuda_gpu_executor.cc:996] successful NUMA node read from SysFS had negative value (-1), but there must be at least one NUMA node, so returning NUMA node zero. See more at https://github.com/torvalds/linux/blob/v6.0/Documentation/ABI/testing/sysfs-bus-pci#L344-L355\n",
      "2024-08-05 11:50:11.921633: I tensorflow/compiler/xla/stream_executor/cuda/cuda_gpu_executor.cc:996] successful NUMA node read from SysFS had negative value (-1), but there must be at least one NUMA node, so returning NUMA node zero. See more at https://github.com/torvalds/linux/blob/v6.0/Documentation/ABI/testing/sysfs-bus-pci#L344-L355\n",
      "2024-08-05 11:50:11.921836: I tensorflow/compiler/xla/stream_executor/cuda/cuda_gpu_executor.cc:996] successful NUMA node read from SysFS had negative value (-1), but there must be at least one NUMA node, so returning NUMA node zero. See more at https://github.com/torvalds/linux/blob/v6.0/Documentation/ABI/testing/sysfs-bus-pci#L344-L355\n",
      "2024-08-05 11:50:11.921994: I tensorflow/core/common_runtime/gpu/gpu_device.cc:1635] Created device /job:localhost/replica:0/task:0/device:GPU:0 with 14576 MB memory:  -> device: 0, name: Tesla V100-SXM2-16GB, pci bus id: 0000:00:1e.0, compute capability: 7.0\n"
     ]
    },
    {
     "name": "stdout",
     "output_type": "stream",
     "text": [
      "Model: \"model\"\n",
      "__________________________________________________________________________________________________\n",
      " Layer (type)                   Output Shape         Param #     Connected to                     \n",
      "==================================================================================================\n",
      " input_1 (InputLayer)           [(None, 256, 256, 3  0           []                               \n",
      "                                )]                                                                \n",
      "                                                                                                  \n",
      " conv2d (Conv2D)                (None, 256, 256, 64  1792        ['input_1[0][0]']                \n",
      "                                )                                                                 \n",
      "                                                                                                  \n",
      " conv2d_1 (Conv2D)              (None, 256, 256, 64  36928       ['conv2d[0][0]']                 \n",
      "                                )                                                                 \n",
      "                                                                                                  \n",
      " max_pooling2d (MaxPooling2D)   (None, 128, 128, 64  0           ['conv2d_1[0][0]']               \n",
      "__________________________________________________________________________________________________\n",
      " Layer (type)                   Output Shape         Param #     Connected to                     \n",
      "==================================================================================================\n",
      " input_1 (InputLayer)           [(None, 256, 256, 3  0           []                               \n",
      "                                )]                                                                \n",
      "                                                                                                  \n",
      " conv2d (Conv2D)                (None, 256, 256, 64  1792        ['input_1[0][0]']                \n",
      "                                )                                                                 \n",
      "                                                                                                  \n",
      " conv2d_1 (Conv2D)              (None, 256, 256, 64  36928       ['conv2d[0][0]']                 \n",
      "                                )                                                                 \n",
      "                                                                                                  \n",
      " max_pooling2d (MaxPooling2D)   (None, 128, 128, 64  0           ['conv2d_1[0][0]']               \n",
      "                                )                                                                 \n",
      "                                                                                                  \n",
      " conv2d_2 (Conv2D)              (None, 128, 128, 12  73856       ['max_pooling2d[0][0]']          \n",
      "                                8)                                                                \n",
      "                                                                                                  \n",
      " conv2d_3 (Conv2D)              (None, 128, 128, 12  147584      ['conv2d_2[0][0]']               \n",
      "                                8)                                                                \n",
      "                                                                                                  \n",
      " max_pooling2d_1 (MaxPooling2D)  (None, 64, 64, 128)  0          ['conv2d_3[0][0]']               \n",
      "                                                                                                  \n",
      " conv2d_4 (Conv2D)              (None, 64, 64, 256)  295168      ['max_pooling2d_1[0][0]']        \n",
      "                                                                                                  \n",
      " conv2d_5 (Conv2D)              (None, 64, 64, 256)  590080      ['conv2d_4[0][0]']               \n",
      "                                                                                                  \n",
      " max_pooling2d_2 (MaxPooling2D)  (None, 32, 32, 256)  0          ['conv2d_5[0][0]']               \n",
      "                                                                                                  \n",
      " conv2d_6 (Conv2D)              (None, 32, 32, 512)  1180160     ['max_pooling2d_2[0][0]']        \n",
      "                                                                                                  \n",
      " conv2d_7 (Conv2D)              (None, 32, 32, 512)  2359808     ['conv2d_6[0][0]']               \n",
      "                                                                                                  \n",
      " max_pooling2d_3 (MaxPooling2D)  (None, 16, 16, 512)  0          ['conv2d_7[0][0]']               \n",
      "                                                                                                  \n",
      " conv2d_8 (Conv2D)              (None, 16, 16, 1024  4719616     ['max_pooling2d_3[0][0]']        \n",
      "                                )                                                                 \n",
      "                                                                                                  \n",
      " conv2d_9 (Conv2D)              (None, 16, 16, 1024  9438208     ['conv2d_8[0][0]']               \n",
      "                                )                                                                 \n",
      "                                                                                                  \n",
      " up_sampling2d (UpSampling2D)   (None, 32, 32, 1024  0           ['conv2d_9[0][0]']               \n",
      "                                )                                                                 \n",
      "                                                                                                  \n",
      " conv2d_10 (Conv2D)             (None, 32, 32, 512)  2097664     ['up_sampling2d[0][0]']          \n",
      "                                                                                                  \n",
      " concatenate (Concatenate)      (None, 32, 32, 1024  0           ['conv2d_7[0][0]',               \n",
      "                                )                                 'conv2d_10[0][0]']              \n",
      "                                                                                                  \n",
      " conv2d_11 (Conv2D)             (None, 32, 32, 512)  4719104     ['concatenate[0][0]']            \n",
      "                                                                                                  \n",
      " conv2d_12 (Conv2D)             (None, 32, 32, 512)  2359808     ['conv2d_11[0][0]']              \n",
      "                                                                                                  \n",
      " up_sampling2d_1 (UpSampling2D)  (None, 64, 64, 512)  0          ['conv2d_12[0][0]']              \n",
      "                                                                                                  \n",
      " conv2d_13 (Conv2D)             (None, 64, 64, 256)  524544      ['up_sampling2d_1[0][0]']        \n",
      "                                                                                                  \n",
      " concatenate_1 (Concatenate)    (None, 64, 64, 512)  0           ['conv2d_5[0][0]',               \n",
      "                                                                  'conv2d_13[0][0]']              \n",
      "                                                                                                  \n",
      " conv2d_14 (Conv2D)             (None, 64, 64, 256)  1179904     ['concatenate_1[0][0]']          \n",
      "                                                                                                  \n",
      " conv2d_15 (Conv2D)             (None, 64, 64, 256)  590080      ['conv2d_14[0][0]']              \n",
      "                                                                                                  \n",
      " up_sampling2d_2 (UpSampling2D)  (None, 128, 128, 25  0          ['conv2d_15[0][0]']              \n",
      "                                6)                                                                \n",
      "                                                                                                  \n",
      " conv2d_16 (Conv2D)             (None, 128, 128, 12  131200      ['up_sampling2d_2[0][0]']        \n",
      "                                8)                                                                \n",
      "                                                                                                  \n",
      " concatenate_2 (Concatenate)    (None, 128, 128, 25  0           ['conv2d_3[0][0]',               \n",
      "                                6)                                'conv2d_16[0][0]']              \n",
      "                                                                                                  \n",
      " conv2d_17 (Conv2D)             (None, 128, 128, 12  295040      ['concatenate_2[0][0]']          \n",
      "                                8)                                                                \n",
      "                                                                                                  \n",
      " conv2d_18 (Conv2D)             (None, 128, 128, 12  147584      ['conv2d_17[0][0]']              \n",
      "                                8)                                                                \n",
      "                                                                                                  \n",
      " up_sampling2d_3 (UpSampling2D)  (None, 256, 256, 12  0          ['conv2d_18[0][0]']              \n",
      "                                8)                                                                \n",
      "                                                                                                  \n",
      " conv2d_19 (Conv2D)             (None, 256, 256, 64  32832       ['up_sampling2d_3[0][0]']        \n",
      "                                )                                                                 \n",
      "                                                                                                  \n",
      " concatenate_3 (Concatenate)    (None, 256, 256, 12  0           ['conv2d_1[0][0]',               \n",
      "                                8)                                'conv2d_19[0][0]']              \n",
      "                                                                                                  \n",
      " conv2d_20 (Conv2D)             (None, 256, 256, 64  73792       ['concatenate_3[0][0]']          \n",
      "                                )                                                                 \n",
      "                                                                                                  \n",
      " conv2d_21 (Conv2D)             (None, 256, 256, 64  36928       ['conv2d_20[0][0]']              \n",
      "                                )                                                                 \n",
      "                                                                                                  \n",
      " conv2d_22 (Conv2D)             (None, 256, 256, 64  36928       ['conv2d_21[0][0]']              \n",
      "                                )                                                                 \n",
      "                                                                                                  \n",
      " conv2d_23 (Conv2D)             (None, 256, 256, 3)  195         ['conv2d_22[0][0]']              \n",
      "                                                                                                  \n",
      "==================================================================================================\n",
      "Total params: 31,068,803\n",
      "Trainable params: 31,068,803\n",
      "Non-trainable params: 0\n",
      "__________________________________________________________________________________________________\n"
     ]
    }
   ],
   "source": [
    "# Define U-Net Model\n",
    "def unet_autoencoder(input_size=(256, 256, 3)):\n",
    "    inputs = layers.Input(input_size)\n",
    "\n",
    "    # Encoder\n",
    "    conv1 = layers.Conv2D(64, 3, activation='relu', padding='same')(inputs)\n",
    "    conv1 = layers.Conv2D(64, 3, activation='relu', padding='same')(conv1)\n",
    "    pool1 = layers.MaxPooling2D(pool_size=(2, 2))(conv1)\n",
    "\n",
    "    conv2 = layers.Conv2D(128, 3, activation='relu', padding='same')(pool1)\n",
    "    conv2 = layers.Conv2D(128, 3, activation='relu', padding='same')(conv2)\n",
    "    pool2 = layers.MaxPooling2D(pool_size=(2, 2))(conv2)\n",
    "\n",
    "    conv3 = layers.Conv2D(256, 3, activation='relu', padding='same')(pool2)\n",
    "    conv3 = layers.Conv2D(256, 3, activation='relu', padding='same')(conv3)\n",
    "    pool3 = layers.MaxPooling2D(pool_size=(2, 2))(conv3)\n",
    "\n",
    "    conv4 = layers.Conv2D(512, 3, activation='relu', padding='same')(pool3)\n",
    "    conv4 = layers.Conv2D(512, 3, activation='relu', padding='same')(conv4)\n",
    "    pool4 = layers.MaxPooling2D(pool_size=(2, 2))(conv4)\n",
    "\n",
    "    # Bottleneck\n",
    "    conv5 = layers.Conv2D(1024, 3, activation='relu', padding='same')(pool4)\n",
    "    conv5 = layers.Conv2D(1024, 3, activation='relu', padding='same')(conv5)\n",
    "\n",
    "    # Decoder\n",
    "    up6 = layers.Conv2D(512, 2, activation='relu', padding='same')(layers.UpSampling2D(size=(2, 2))(conv5))\n",
    "    merge6 = layers.concatenate([conv4, up6], axis=3)\n",
    "    conv6 = layers.Conv2D(512, 3, activation='relu', padding='same')(merge6)\n",
    "    conv6 = layers.Conv2D(512, 3, activation='relu', padding='same')(conv6)\n",
    "\n",
    "    up7 = layers.Conv2D(256, 2, activation='relu', padding='same')(layers.UpSampling2D(size=(2, 2))(conv6))\n",
    "    merge7 = layers.concatenate([conv3, up7], axis=3)\n",
    "    conv7 = layers.Conv2D(256, 3, activation='relu', padding='same')(merge7)\n",
    "    conv7 = layers.Conv2D(256, 3, activation='relu', padding='same')(conv7)\n",
    "\n",
    "    up8 = layers.Conv2D(128, 2, activation='relu', padding='same')(layers.UpSampling2D(size=(2, 2))(conv7))\n",
    "    merge8 = layers.concatenate([conv2, up8], axis=3)\n",
    "    conv8 = layers.Conv2D(128, 3, activation='relu', padding='same')(merge8)\n",
    "    conv8 = layers.Conv2D(128, 3, activation='relu', padding='same')(conv8)\n",
    "\n",
    "    up9 = layers.Conv2D(64, 2, activation='relu', padding='same')(layers.UpSampling2D(size=(2, 2))(conv8))\n",
    "    merge9 = layers.concatenate([conv1, up9], axis=3)\n",
    "    conv9 = layers.Conv2D(64, 3, activation='relu', padding='same')(merge9)\n",
    "    conv9 = layers.Conv2D(64, 3, activation='relu', padding='same')(conv9)\n",
    "    conv9 = layers.Conv2D(64, 3, activation='relu', padding='same')(conv9)\n",
    "    conv10 = layers.Conv2D(3, 1, activation='sigmoid')(conv9)\n",
    "\n",
    "    model = models.Model(inputs=inputs, outputs=conv10)\n",
    "    model.compile(optimizer='adam', loss='mean_squared_error')\n",
    "\n",
    "    return model\n",
    "\n",
    "autoencoder = unet_autoencoder()\n",
    "autoencoder.summary()"
   ]
  },
  {
   "cell_type": "code",
   "execution_count": 5,
   "metadata": {},
   "outputs": [
    {
     "name": "stdout",
     "output_type": "stream",
     "text": [
      "Epoch 1/50\n"
     ]
    },
    {
     "name": "stderr",
     "output_type": "stream",
     "text": [
      "2024-08-05 11:50:56.749731: I tensorflow/core/common_runtime/executor.cc:1197] [/device:CPU:0] (DEBUG INFO) Executor start aborting (this does not indicate an error and you can ignore this message): INVALID_ARGUMENT: You must feed a value for placeholder tensor 'Placeholder/_0' with dtype int32\n",
      "\t [[{{node Placeholder/_0}}]]\n",
      "2024-08-05 11:51:02.087124: I tensorflow/compiler/xla/stream_executor/cuda/cuda_dnn.cc:424] Loaded cuDNN version 8903\n",
      "2024-08-05 11:51:10.142372: I tensorflow/compiler/xla/service/service.cc:169] XLA service 0x7f2669c7c6a0 initialized for platform CUDA (this does not guarantee that XLA will be used). Devices:\n",
      "2024-08-05 11:51:10.142422: I tensorflow/compiler/xla/service/service.cc:177]   StreamExecutor device (0): Tesla V100-SXM2-16GB, Compute Capability 7.0\n",
      "2024-08-05 11:51:10.148641: I tensorflow/compiler/mlir/tensorflow/utils/dump_mlir_util.cc:269] disabling MLIR crash reproducer, set env var `MLIR_CRASH_REPRODUCER_DIRECTORY` to enable.\n",
      "2024-08-05 11:51:10.316010: I ./tensorflow/compiler/jit/device_compiler.h:180] Compiled cluster using XLA!  This line is logged at most once for the lifetime of the process.\n",
      "2024-08-05 11:51:11.785837: W tensorflow/tsl/framework/bfc_allocator.cc:296] Allocator (GPU_0_bfc) ran out of memory trying to allocate 3.39GiB with freed_by_count=0. The caller indicates that this is not a failure, but this may mean that there could be performance gains if more memory were available.\n",
      "2024-08-05 11:51:12.016801: W tensorflow/tsl/framework/bfc_allocator.cc:296] Allocator (GPU_0_bfc) ran out of memory trying to allocate 1.52GiB with freed_by_count=0. The caller indicates that this is not a failure, but this may mean that there could be performance gains if more memory were available.\n",
      "2024-08-05 11:51:12.016868: W tensorflow/tsl/framework/bfc_allocator.cc:296] Allocator (GPU_0_bfc) ran out of memory trying to allocate 1.52GiB with freed_by_count=0. The caller indicates that this is not a failure, but this may mean that there could be performance gains if more memory were available.\n",
      "2024-08-05 11:51:12.221152: W tensorflow/tsl/framework/bfc_allocator.cc:296] Allocator (GPU_0_bfc) ran out of memory trying to allocate 3.39GiB with freed_by_count=0. The caller indicates that this is not a failure, but this may mean that there could be performance gains if more memory were available.\n"
     ]
    },
    {
     "name": "stdout",
     "output_type": "stream",
     "text": [
      "43/43 [==============================] - ETA: 0s - loss: 0.0166"
     ]
    },
    {
     "name": "stderr",
     "output_type": "stream",
     "text": [
      "2024-08-05 11:52:12.449388: I tensorflow/core/common_runtime/executor.cc:1197] [/device:CPU:0] (DEBUG INFO) Executor start aborting (this does not indicate an error and you can ignore this message): INVALID_ARGUMENT: You must feed a value for placeholder tensor 'Placeholder/_0' with dtype int32\n",
      "\t [[{{node Placeholder/_0}}]]\n"
     ]
    },
    {
     "name": "stdout",
     "output_type": "stream",
     "text": [
      "43/43 [==============================] - 80s 1s/step - loss: 0.0166 - val_loss: 0.0102\n",
      "Epoch 2/50\n",
      "Epoch 2/50\n",
      "43/43 [==============================] - 36s 830ms/step - loss: 5.1419e-04 - val_loss: 0.0102\n",
      "Epoch 3/50\n",
      "43/43 [==============================] - 35s 812ms/step - loss: 5.0625e-04 - val_loss: 0.0102\n",
      "Epoch 4/50\n",
      "43/43 [==============================] - 36s 814ms/step - loss: 5.4323e-04 - val_loss: 0.0102\n",
      "Epoch 5/50\n",
      "43/43 [==============================] - 36s 835ms/step - loss: 5.5251e-04 - val_loss: 0.0102\n",
      "Epoch 6/50\n",
      "43/43 [==============================] - 36s 823ms/step - loss: 6.0530e-04 - val_loss: 0.0102\n",
      "Epoch 7/50\n",
      "43/43 [==============================] - 36s 827ms/step - loss: 5.1202e-04 - val_loss: 0.0102\n",
      "Epoch 8/50\n",
      "43/43 [==============================] - 37s 839ms/step - loss: 5.4041e-04 - val_loss: 0.0102\n",
      "Epoch 9/50\n",
      "43/43 [==============================] - 36s 825ms/step - loss: 4.5137e-04 - val_loss: 0.0102\n",
      "Epoch 10/50\n",
      "43/43 [==============================] - 36s 816ms/step - loss: 5.4254e-04 - val_loss: 0.0102\n",
      "Epoch 11/50\n",
      "43/43 [==============================] - 35s 812ms/step - loss: 3.9699e-04 - val_loss: 0.0102\n",
      "Epoch 12/50\n",
      "43/43 [==============================] - 36s 822ms/step - loss: 6.3096e-04 - val_loss: 0.0102\n",
      "Epoch 13/50\n",
      "43/43 [==============================] - 36s 819ms/step - loss: 4.8469e-04 - val_loss: 0.0102\n",
      "Epoch 14/50\n",
      "43/43 [==============================] - 36s 822ms/step - loss: 5.2382e-04 - val_loss: 0.0102\n",
      "Epoch 15/50\n",
      "43/43 [==============================] - 36s 827ms/step - loss: 5.8923e-04 - val_loss: 0.0102\n",
      "Epoch 16/50\n",
      "43/43 [==============================] - 36s 836ms/step - loss: 5.3095e-04 - val_loss: 0.0102\n",
      "Epoch 17/50\n",
      "43/43 [==============================] - 35s 807ms/step - loss: 4.5006e-04 - val_loss: 0.0102\n",
      "Epoch 18/50\n",
      "43/43 [==============================] - 35s 813ms/step - loss: 6.2693e-04 - val_loss: 0.0102\n",
      "Epoch 19/50\n",
      "43/43 [==============================] - 36s 835ms/step - loss: 4.0283e-04 - val_loss: 0.0102\n",
      "Epoch 20/50\n",
      "43/43 [==============================] - 36s 821ms/step - loss: 4.6537e-04 - val_loss: 0.0102\n",
      "Epoch 21/50\n",
      "43/43 [==============================] - 36s 817ms/step - loss: 5.3732e-04 - val_loss: 0.0102\n",
      "Epoch 22/50\n",
      "43/43 [==============================] - 35s 812ms/step - loss: 5.5298e-04 - val_loss: 0.0102\n",
      "Epoch 23/50\n",
      "43/43 [==============================] - 36s 818ms/step - loss: 4.8826e-04 - val_loss: 0.0102\n",
      "Epoch 24/50\n",
      "43/43 [==============================] - 36s 825ms/step - loss: 4.2194e-04 - val_loss: 0.0102\n",
      "Epoch 25/50\n",
      "43/43 [==============================] - 36s 815ms/step - loss: 4.5494e-04 - val_loss: 0.0102\n",
      "Epoch 26/50\n",
      "43/43 [==============================] - 36s 820ms/step - loss: 5.4939e-04 - val_loss: 0.0102\n",
      "Epoch 27/50\n",
      "43/43 [==============================] - 36s 815ms/step - loss: 5.4450e-04 - val_loss: 0.0102\n",
      "Epoch 28/50\n",
      "43/43 [==============================] - 36s 829ms/step - loss: 4.7793e-04 - val_loss: 0.0102\n",
      "Epoch 29/50\n",
      "43/43 [==============================] - 35s 809ms/step - loss: 3.9918e-04 - val_loss: 0.0102\n",
      "Epoch 30/50\n",
      "43/43 [==============================] - 36s 812ms/step - loss: 5.6702e-04 - val_loss: 0.0102\n",
      "Epoch 31/50\n",
      "43/43 [==============================] - 36s 820ms/step - loss: 5.5161e-04 - val_loss: 0.0102\n",
      "Epoch 32/50\n",
      "43/43 [==============================] - 35s 810ms/step - loss: 5.2006e-04 - val_loss: 0.0102\n",
      "Epoch 33/50\n",
      "43/43 [==============================] - 36s 819ms/step - loss: 5.2803e-04 - val_loss: 0.0102\n",
      "Epoch 34/50\n",
      "43/43 [==============================] - 35s 808ms/step - loss: 5.6494e-04 - val_loss: 0.0102\n",
      "Epoch 35/50\n",
      "43/43 [==============================] - 36s 816ms/step - loss: 4.9229e-04 - val_loss: 0.0102\n",
      "Epoch 36/50\n",
      "43/43 [==============================] - 36s 822ms/step - loss: 5.7538e-04 - val_loss: 0.0102\n",
      "Epoch 37/50\n",
      "43/43 [==============================] - 36s 815ms/step - loss: 4.7882e-04 - val_loss: 0.0102\n",
      "Epoch 38/50\n",
      "43/43 [==============================] - 35s 810ms/step - loss: 4.3011e-04 - val_loss: 0.0102\n",
      "Epoch 39/50\n",
      "43/43 [==============================] - 35s 809ms/step - loss: 5.6086e-04 - val_loss: 0.0102\n",
      "Epoch 40/50\n",
      "43/43 [==============================] - 35s 814ms/step - loss: 4.9068e-04 - val_loss: 0.0102\n",
      "Epoch 41/50\n",
      "43/43 [==============================] - 35s 814ms/step - loss: 5.0420e-04 - val_loss: 0.0102\n",
      "Epoch 42/50\n",
      "43/43 [==============================] - 35s 810ms/step - loss: 4.6467e-04 - val_loss: 0.0102\n",
      "Epoch 43/50\n",
      "43/43 [==============================] - 36s 832ms/step - loss: 5.5118e-04 - val_loss: 0.0102\n",
      "Epoch 44/50\n",
      "43/43 [==============================] - 36s 817ms/step - loss: 4.4936e-04 - val_loss: 0.0102\n",
      "Epoch 45/50\n",
      "43/43 [==============================] - 36s 820ms/step - loss: 5.6091e-04 - val_loss: 0.0102\n",
      "Epoch 46/50\n",
      "43/43 [==============================] - 35s 803ms/step - loss: 5.3174e-04 - val_loss: 0.0102\n",
      "Epoch 47/50\n",
      "43/43 [==============================] - 36s 818ms/step - loss: 4.4458e-04 - val_loss: 0.0102\n",
      "Epoch 48/50\n",
      "43/43 [==============================] - 36s 815ms/step - loss: 3.9589e-04 - val_loss: 0.0102\n",
      "Epoch 49/50\n",
      "43/43 [==============================] - 36s 821ms/step - loss: 5.8499e-04 - val_loss: 0.0102\n",
      "Epoch 50/50\n",
      "43/43 [==============================] - 36s 816ms/step - loss: 4.7077e-04 - val_loss: 0.0102\n"
     ]
    }
   ],
   "source": [
    "# Training the autoencoder\n",
    "history = autoencoder.fit(train_autoencoder_generator, epochs=50, validation_data=validation_autoencoder_generator)\n"
   ]
  },
  {
   "cell_type": "code",
   "execution_count": 6,
   "metadata": {},
   "outputs": [],
   "source": [
    "# Save the trained model\n",
    "autoencoder.save('breast_cancer_autoencoder.h5')"
   ]
  },
  {
   "cell_type": "code",
   "execution_count": 7,
   "metadata": {},
   "outputs": [
    {
     "name": "stderr",
     "output_type": "stream",
     "text": [
      "2024-08-05 12:24:16.313944: I tensorflow/core/common_runtime/executor.cc:1197] [/device:CPU:0] (DEBUG INFO) Executor start aborting (this does not indicate an error and you can ignore this message): INVALID_ARGUMENT: You must feed a value for placeholder tensor 'Placeholder/_0' with dtype int32\n",
      "\t [[{{node Placeholder/_0}}]]\n"
     ]
    },
    {
     "name": "stdout",
     "output_type": "stream",
     "text": [
      "13/13 [==============================] - 6s 502ms/step - loss: 0.0046\n",
      "Test Loss: 0.0046104006469249725\n"
     ]
    }
   ],
   "source": [
    "# Evaluate on the test set\n",
    "test_loss = autoencoder.evaluate(test_autoencoder_generator)\n",
    "print(f\"Test Loss: {test_loss}\")"
   ]
  },
  {
   "cell_type": "markdown",
   "metadata": {},
   "source": [
    "#### Visualizing the Performance\n",
    "To visualize the performance, you can plot the training and validation loss over epochs"
   ]
  },
  {
   "cell_type": "code",
   "execution_count": 8,
   "metadata": {},
   "outputs": [
    {
     "data": {
      "image/png": "[encoded data removed]",
      "text/plain": [
       "<Figure size 1000x500 with 1 Axes>"
      ]
     },
     "metadata": {},
     "output_type": "display_data"
    }
   ],
   "source": [
    "import matplotlib.pyplot as plt\n",
    "\n",
    "# Plot the training and validation loss\n",
    "plt.figure(figsize=(10, 5))\n",
    "plt.plot(history.history['loss'], label='Training Loss')\n",
    "plt.plot(history.history['val_loss'], label='Validation Loss')\n",
    "plt.title('Training and Validation Loss')\n",
    "plt.xlabel('Epochs')\n",
    "plt.ylabel('Loss')\n",
    "plt.legend()\n",
    "plt.show()\n"
   ]
  },
  {
   "cell_type": "markdown",
   "metadata": {},
   "source": [
    "The plot of the training and validation loss shows a few key points:\n",
    "\n",
    "- Training Loss: The training loss rapidly decreases and flattens out near zero, indicating that the model is learning to reconstruct the training images very well.\n",
    "- Validation Loss: The validation loss, on the other hand, remains almost constant and higher than the training loss, indicating that the model is not generalizing well to unseen data (overfitting)."
   ]
  },
  {
   "cell_type": "markdown",
   "metadata": {},
   "source": [
    "### Visualizing the Predictions\n",
    "To visualize the predictions, you can select some images from the test set, run them through the autoencoder, and plot the original and reconstructed images side by side."
   ]
  },
  {
   "cell_type": "code",
   "execution_count": 9,
   "metadata": {},
   "outputs": [
    {
     "name": "stdout",
     "output_type": "stream",
     "text": [
      "1/1 [==============================] - 0s 334ms/step\n"
     ]
    },
    {
     "data": {
      "image/png": "[encoded data removed]",
      "text/plain": [
       "<Figure size 2000x400 with 20 Axes>"
      ]
     },
     "metadata": {},
     "output_type": "display_data"
    }
   ],
   "source": [
    "def plot_reconstructed_images(original_images, reconstructed_images, n=10):\n",
    "    plt.figure(figsize=(20, 4))\n",
    "    for i in range(n):\n",
    "        # Display original\n",
    "        ax = plt.subplot(2, n, i + 1)\n",
    "        plt.imshow(original_images[i])\n",
    "        plt.title(\"Original\")\n",
    "        plt.axis(\"off\")\n",
    "\n",
    "        # Display reconstruction\n",
    "        ax = plt.subplot(2, n, i + 1 + n)\n",
    "        plt.imshow(reconstructed_images[i])\n",
    "        plt.title(\"Reconstructed\")\n",
    "        plt.axis(\"off\")\n",
    "    plt.show()\n",
    "\n",
    "# Get a batch of images from the test set\n",
    "test_images = next(iter(test_autoencoder_generator))[0]\n",
    "# Get the reconstructed images\n",
    "reconstructed_images = autoencoder.predict(test_images)\n",
    "\n",
    "# Plot original and reconstructed images\n",
    "plot_reconstructed_images(test_images, reconstructed_images, n=10)\n"
   ]
  },
  {
   "cell_type": "code",
   "execution_count": null,
   "metadata": {},
   "outputs": [],
   "source": []
  }
 ],
 "metadata": {
  "kernelspec": {
   "display_name": "tensorflow",
   "language": "python",
   "name": "python3"
  },
  "language_info": {
   "codemirror_mode": {
    "name": "ipython",
    "version": 3
   },
   "file_extension": ".py",
   "mimetype": "text/x-python",
   "name": "python",
   "nbconvert_exporter": "python",
   "pygments_lexer": "ipython3",
   "version": "3.10.12"
  }
 },
 "nbformat": 4,
 "nbformat_minor": 2
}
